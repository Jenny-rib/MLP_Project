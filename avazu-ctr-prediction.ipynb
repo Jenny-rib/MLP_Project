{
 "cells": [
  {
   "cell_type": "code",
   "execution_count": 1,
   "id": "2edb3dd1-f54f-4448-987f-2470b260a631",
   "metadata": {},
   "outputs": [],
   "source": [
    "# base modules\n",
    "import os\n",
    "import sys\n",
    "import copy\n",
    "\n",
    "# for manipulating data\n",
    "import numpy as np\n",
    "import pandas as pd\n",
    "import math\n",
    "import joblib\n",
    "import gc\n",
    "\n",
    "\n",
    "# for Machine Learning\n",
    "from sklearn.ensemble import RandomForestRegressor, RandomForestClassifier, BaggingRegressor\n",
    "from sklearn.tree import DecisionTreeRegressor, DecisionTreeClassifier, plot_tree\n",
    "from sklearn.preprocessing import LabelEncoder, MinMaxScaler\n",
    "from sklearn.metrics import roc_auc_score, classification_report, roc_curve\n",
    "from sklearn.model_selection import train_test_split, RandomizedSearchCV\n",
    "from sklearn.ensemble import RandomForestClassifier\n",
    "from sklearn import metrics\n",
    "from imblearn.over_sampling import SMOTE\n",
    "\n",
    "\n",
    "# for visualization\n",
    "from IPython.display import display\n",
    "from matplotlib import pyplot as plt"
   ]
  },
  {
   "cell_type": "code",
   "execution_count": 2,
   "id": "26ff0da3-3a8b-4efc-afd7-541dfe518d74",
   "metadata": {},
   "outputs": [],
   "source": [
    "# for package auto reload\n",
    "%load_ext autoreload\n",
    "%autoreload 2\n",
    "\n",
    "# for better rendering of plots in jupyter notebook\n",
    "%matplotlib inline"
   ]
  },
  {
   "cell_type": "markdown",
   "id": "d207cbf7-a96f-4a65-9abd-44da8c9aa1f7",
   "metadata": {},
   "source": [
    "### Select Data "
   ]
  },
  {
   "cell_type": "code",
   "execution_count": 3,
   "id": "f74644c6-7e10-4a94-a977-3c43722014b5",
   "metadata": {},
   "outputs": [
    {
     "name": "stdout",
     "output_type": "stream",
     "text": [
      "<class 'pandas.core.frame.DataFrame'>\n",
      "RangeIndex: 100000 entries, 0 to 99999\n",
      "Data columns (total 24 columns):\n",
      " #   Column            Non-Null Count   Dtype  \n",
      "---  ------            --------------   -----  \n",
      " 0   id                100000 non-null  float64\n",
      " 1   click             100000 non-null  int64  \n",
      " 2   hour              100000 non-null  int64  \n",
      " 3   C1                100000 non-null  int64  \n",
      " 4   banner_pos        100000 non-null  int64  \n",
      " 5   site_id           100000 non-null  object \n",
      " 6   site_domain       100000 non-null  object \n",
      " 7   site_category     100000 non-null  object \n",
      " 8   app_id            100000 non-null  object \n",
      " 9   app_domain        100000 non-null  object \n",
      " 10  app_category      100000 non-null  object \n",
      " 11  device_id         100000 non-null  object \n",
      " 12  device_ip         100000 non-null  object \n",
      " 13  device_model      100000 non-null  object \n",
      " 14  device_type       100000 non-null  int64  \n",
      " 15  device_conn_type  100000 non-null  int64  \n",
      " 16  C14               100000 non-null  int64  \n",
      " 17  C15               100000 non-null  int64  \n",
      " 18  C16               100000 non-null  int64  \n",
      " 19  C17               100000 non-null  int64  \n",
      " 20  C18               100000 non-null  int64  \n",
      " 21  C19               100000 non-null  int64  \n",
      " 22  C20               100000 non-null  int64  \n",
      " 23  C21               100000 non-null  int64  \n",
      "dtypes: float64(1), int64(14), object(9)\n",
      "memory usage: 67.2 MB\n",
      "None\n",
      "             id  click      hour    C1  banner_pos   site_id site_domain  \\\n",
      "0  1.000009e+18      0  14102100  1005           0  1fbe01fe    f3845767   \n",
      "1  1.000017e+19      0  14102100  1005           0  1fbe01fe    f3845767   \n",
      "2  1.000037e+19      0  14102100  1005           0  1fbe01fe    f3845767   \n",
      "3  1.000064e+19      0  14102100  1005           0  1fbe01fe    f3845767   \n",
      "4  1.000068e+19      0  14102100  1005           1  fe8cc448    9166c161   \n",
      "\n",
      "  site_category    app_id app_domain  ... device_type device_conn_type    C14  \\\n",
      "0      28905ebd  ecad2386   7801e8d9  ...           1                2  15706   \n",
      "1      28905ebd  ecad2386   7801e8d9  ...           1                0  15704   \n",
      "2      28905ebd  ecad2386   7801e8d9  ...           1                0  15704   \n",
      "3      28905ebd  ecad2386   7801e8d9  ...           1                0  15706   \n",
      "4      0569f928  ecad2386   7801e8d9  ...           1                0  18993   \n",
      "\n",
      "   C15  C16   C17  C18  C19     C20  C21  \n",
      "0  320   50  1722    0   35      -1   79  \n",
      "1  320   50  1722    0   35  100084   79  \n",
      "2  320   50  1722    0   35  100084   79  \n",
      "3  320   50  1722    0   35  100084   79  \n",
      "4  320   50  2161    0   35      -1  157  \n",
      "\n",
      "[5 rows x 24 columns]\n"
     ]
    }
   ],
   "source": [
    "# read the data in chunk\n",
    "\n",
    "chunk_size = 100000\n",
    "train_chunks = pd.read_csv('train.csv', chunksize=chunk_size)\n",
    "\n",
    "for chunk in train_chunks:\n",
    "    print(chunk.info(memory_usage='deep'))\n",
    "    print(chunk.head())\n",
    "    break"
   ]
  },
  {
   "cell_type": "code",
   "execution_count": 4,
   "id": "b4a563d6-ffc8-48a7-aa75-0afcaae3bbc0",
   "metadata": {},
   "outputs": [
    {
     "name": "stdout",
     "output_type": "stream",
     "text": [
      "the size of sampled data: (404290, 24)\n"
     ]
    }
   ],
   "source": [
    "# random select\n",
    "sample_ratio = 0.01  # select 1% each time\n",
    "\n",
    "# sampling\n",
    "sampled_data = pd.DataFrame()\n",
    "for chunk in pd.read_csv('train.csv', chunksize=chunk_size):\n",
    "    sampled_chunk = chunk.sample(frac=sample_ratio, random_state=42)\n",
    "    sampled_data = pd.concat([sampled_data, sampled_chunk], ignore_index=True)\n",
    "\n",
    "print(f\"the size of sampled data: {sampled_data.shape}\")\n"
   ]
  },
  {
   "cell_type": "code",
   "execution_count": 5,
   "id": "53fc36e6-825b-4443-828a-442937c9929f",
   "metadata": {},
   "outputs": [
    {
     "name": "stderr",
     "output_type": "stream",
     "text": [
      "/Users/jenny/anaconda3/envs/MLP_Project/lib/python3.11/site-packages/pandas/core/dtypes/cast.py:378: RuntimeWarning: invalid value encountered in cast\n",
      "  new_result = trans(result).astype(dtype)\n"
     ]
    },
    {
     "name": "stdout",
     "output_type": "stream",
     "text": [
      "<class 'pandas.core.frame.DataFrame'>\n",
      "RangeIndex: 404290 entries, 0 to 404289\n",
      "Data columns (total 24 columns):\n",
      " #   Column            Non-Null Count   Dtype   \n",
      "---  ------            --------------   -----   \n",
      " 0   id                404290 non-null  uint64  \n",
      " 1   click             404290 non-null  uint8   \n",
      " 2   hour              404290 non-null  uint32  \n",
      " 3   C1                404290 non-null  uint16  \n",
      " 4   banner_pos        404290 non-null  uint8   \n",
      " 5   site_id           404290 non-null  category\n",
      " 6   site_domain       404290 non-null  category\n",
      " 7   site_category     404290 non-null  category\n",
      " 8   app_id            404290 non-null  category\n",
      " 9   app_domain        404290 non-null  category\n",
      " 10  app_category      404290 non-null  category\n",
      " 11  device_id         404290 non-null  category\n",
      " 12  device_ip         404290 non-null  category\n",
      " 13  device_model      404290 non-null  category\n",
      " 14  device_type       404290 non-null  uint8   \n",
      " 15  device_conn_type  404290 non-null  uint8   \n",
      " 16  C14               404290 non-null  uint16  \n",
      " 17  C15               404290 non-null  uint16  \n",
      " 18  C16               404290 non-null  uint16  \n",
      " 19  C17               404290 non-null  uint16  \n",
      " 20  C18               404290 non-null  uint8   \n",
      " 21  C19               404290 non-null  uint16  \n",
      " 22  C20               404290 non-null  int64   \n",
      " 23  C21               404290 non-null  uint8   \n",
      "dtypes: category(9), int64(1), uint16(6), uint32(1), uint64(1), uint8(6)\n",
      "memory usage: 53.8 MB\n",
      "None\n"
     ]
    }
   ],
   "source": [
    "# optimization\n",
    "\n",
    "def optimize_memory(df):\n",
    "    for col in df.columns:\n",
    "        if df[col].dtype == 'int64' or df[col].dtype == 'float64':\n",
    "            df[col] = pd.to_numeric(df[col], downcast='unsigned')\n",
    "        elif df[col].dtype == 'object':\n",
    "            df[col] = df[col].astype('category')\n",
    "    return df\n",
    "\n",
    "sampled_data = optimize_memory(sampled_data)\n",
    "\n",
    "print(sampled_data.info(memory_usage='deep'))"
   ]
  },
  {
   "cell_type": "code",
   "execution_count": 6,
   "id": "bcf280f0-90bd-4c8f-9dda-5eaa7b928a36",
   "metadata": {},
   "outputs": [],
   "source": [
    "# save as a csv file\n",
    "sampled_data.to_csv('train_sample.csv', index=False, compression='gzip')"
   ]
  },
  {
   "cell_type": "markdown",
   "id": "b871ed01-e58e-4a52-acab-33ebc87b2cc6",
   "metadata": {},
   "source": [
    "### Data Processing"
   ]
  },
  {
   "cell_type": "code",
   "execution_count": 7,
   "id": "99dbd026-30f4-44fa-b803-297948bc56c6",
   "metadata": {},
   "outputs": [
    {
     "data": {
      "text/html": [
       "<div>\n",
       "<style scoped>\n",
       "    .dataframe tbody tr th:only-of-type {\n",
       "        vertical-align: middle;\n",
       "    }\n",
       "\n",
       "    .dataframe tbody tr th {\n",
       "        vertical-align: top;\n",
       "    }\n",
       "\n",
       "    .dataframe thead th {\n",
       "        text-align: right;\n",
       "    }\n",
       "</style>\n",
       "<table border=\"1\" class=\"dataframe\">\n",
       "  <thead>\n",
       "    <tr style=\"text-align: right;\">\n",
       "      <th></th>\n",
       "      <th>id</th>\n",
       "      <th>click</th>\n",
       "      <th>hour</th>\n",
       "      <th>C1</th>\n",
       "      <th>banner_pos</th>\n",
       "      <th>site_id</th>\n",
       "      <th>site_domain</th>\n",
       "      <th>site_category</th>\n",
       "      <th>app_id</th>\n",
       "      <th>app_domain</th>\n",
       "      <th>...</th>\n",
       "      <th>device_type</th>\n",
       "      <th>device_conn_type</th>\n",
       "      <th>C14</th>\n",
       "      <th>C15</th>\n",
       "      <th>C16</th>\n",
       "      <th>C17</th>\n",
       "      <th>C18</th>\n",
       "      <th>C19</th>\n",
       "      <th>C20</th>\n",
       "      <th>C21</th>\n",
       "    </tr>\n",
       "  </thead>\n",
       "  <tbody>\n",
       "    <tr>\n",
       "      <th>0</th>\n",
       "      <td>3926754196077507072</td>\n",
       "      <td>1</td>\n",
       "      <td>14102100</td>\n",
       "      <td>1005</td>\n",
       "      <td>0</td>\n",
       "      <td>f84e52b6</td>\n",
       "      <td>d7e2f29b</td>\n",
       "      <td>28905ebd</td>\n",
       "      <td>ecad2386</td>\n",
       "      <td>7801e8d9</td>\n",
       "      <td>...</td>\n",
       "      <td>1</td>\n",
       "      <td>0</td>\n",
       "      <td>20346</td>\n",
       "      <td>300</td>\n",
       "      <td>250</td>\n",
       "      <td>2331</td>\n",
       "      <td>2</td>\n",
       "      <td>39</td>\n",
       "      <td>-1</td>\n",
       "      <td>23</td>\n",
       "    </tr>\n",
       "    <tr>\n",
       "      <th>1</th>\n",
       "      <td>4544181857823990784</td>\n",
       "      <td>1</td>\n",
       "      <td>14102100</td>\n",
       "      <td>1005</td>\n",
       "      <td>1</td>\n",
       "      <td>e151e245</td>\n",
       "      <td>7e091613</td>\n",
       "      <td>f028772b</td>\n",
       "      <td>ecad2386</td>\n",
       "      <td>7801e8d9</td>\n",
       "      <td>...</td>\n",
       "      <td>1</td>\n",
       "      <td>0</td>\n",
       "      <td>17037</td>\n",
       "      <td>320</td>\n",
       "      <td>50</td>\n",
       "      <td>1934</td>\n",
       "      <td>2</td>\n",
       "      <td>39</td>\n",
       "      <td>-1</td>\n",
       "      <td>16</td>\n",
       "    </tr>\n",
       "    <tr>\n",
       "      <th>2</th>\n",
       "      <td>12744445434029488128</td>\n",
       "      <td>0</td>\n",
       "      <td>14102100</td>\n",
       "      <td>1005</td>\n",
       "      <td>0</td>\n",
       "      <td>1fbe01fe</td>\n",
       "      <td>f3845767</td>\n",
       "      <td>28905ebd</td>\n",
       "      <td>ecad2386</td>\n",
       "      <td>7801e8d9</td>\n",
       "      <td>...</td>\n",
       "      <td>1</td>\n",
       "      <td>0</td>\n",
       "      <td>15699</td>\n",
       "      <td>320</td>\n",
       "      <td>50</td>\n",
       "      <td>1722</td>\n",
       "      <td>0</td>\n",
       "      <td>35</td>\n",
       "      <td>100083</td>\n",
       "      <td>79</td>\n",
       "    </tr>\n",
       "    <tr>\n",
       "      <th>3</th>\n",
       "      <td>4063799378381284352</td>\n",
       "      <td>0</td>\n",
       "      <td>14102100</td>\n",
       "      <td>1005</td>\n",
       "      <td>0</td>\n",
       "      <td>1fbe01fe</td>\n",
       "      <td>f3845767</td>\n",
       "      <td>28905ebd</td>\n",
       "      <td>ecad2386</td>\n",
       "      <td>7801e8d9</td>\n",
       "      <td>...</td>\n",
       "      <td>1</td>\n",
       "      <td>2</td>\n",
       "      <td>15699</td>\n",
       "      <td>320</td>\n",
       "      <td>50</td>\n",
       "      <td>1722</td>\n",
       "      <td>0</td>\n",
       "      <td>35</td>\n",
       "      <td>-1</td>\n",
       "      <td>79</td>\n",
       "    </tr>\n",
       "    <tr>\n",
       "      <th>4</th>\n",
       "      <td>6357775859397618688</td>\n",
       "      <td>1</td>\n",
       "      <td>14102100</td>\n",
       "      <td>1005</td>\n",
       "      <td>0</td>\n",
       "      <td>5b08c53b</td>\n",
       "      <td>7687a86e</td>\n",
       "      <td>3e814130</td>\n",
       "      <td>ecad2386</td>\n",
       "      <td>7801e8d9</td>\n",
       "      <td>...</td>\n",
       "      <td>1</td>\n",
       "      <td>0</td>\n",
       "      <td>17654</td>\n",
       "      <td>300</td>\n",
       "      <td>250</td>\n",
       "      <td>1994</td>\n",
       "      <td>2</td>\n",
       "      <td>39</td>\n",
       "      <td>100083</td>\n",
       "      <td>33</td>\n",
       "    </tr>\n",
       "    <tr>\n",
       "      <th>...</th>\n",
       "      <td>...</td>\n",
       "      <td>...</td>\n",
       "      <td>...</td>\n",
       "      <td>...</td>\n",
       "      <td>...</td>\n",
       "      <td>...</td>\n",
       "      <td>...</td>\n",
       "      <td>...</td>\n",
       "      <td>...</td>\n",
       "      <td>...</td>\n",
       "      <td>...</td>\n",
       "      <td>...</td>\n",
       "      <td>...</td>\n",
       "      <td>...</td>\n",
       "      <td>...</td>\n",
       "      <td>...</td>\n",
       "      <td>...</td>\n",
       "      <td>...</td>\n",
       "      <td>...</td>\n",
       "      <td>...</td>\n",
       "      <td>...</td>\n",
       "    </tr>\n",
       "    <tr>\n",
       "      <th>404285</th>\n",
       "      <td>9823785328714326016</td>\n",
       "      <td>0</td>\n",
       "      <td>14103023</td>\n",
       "      <td>1005</td>\n",
       "      <td>0</td>\n",
       "      <td>1fbe01fe</td>\n",
       "      <td>f3845767</td>\n",
       "      <td>28905ebd</td>\n",
       "      <td>ecad2386</td>\n",
       "      <td>7801e8d9</td>\n",
       "      <td>...</td>\n",
       "      <td>1</td>\n",
       "      <td>0</td>\n",
       "      <td>22254</td>\n",
       "      <td>320</td>\n",
       "      <td>50</td>\n",
       "      <td>2545</td>\n",
       "      <td>0</td>\n",
       "      <td>431</td>\n",
       "      <td>100084</td>\n",
       "      <td>221</td>\n",
       "    </tr>\n",
       "    <tr>\n",
       "      <th>404286</th>\n",
       "      <td>5655954353396606976</td>\n",
       "      <td>1</td>\n",
       "      <td>14103023</td>\n",
       "      <td>1005</td>\n",
       "      <td>1</td>\n",
       "      <td>17caea14</td>\n",
       "      <td>0dde25ec</td>\n",
       "      <td>f028772b</td>\n",
       "      <td>ecad2386</td>\n",
       "      <td>7801e8d9</td>\n",
       "      <td>...</td>\n",
       "      <td>1</td>\n",
       "      <td>0</td>\n",
       "      <td>21412</td>\n",
       "      <td>320</td>\n",
       "      <td>50</td>\n",
       "      <td>2467</td>\n",
       "      <td>2</td>\n",
       "      <td>167</td>\n",
       "      <td>100081</td>\n",
       "      <td>23</td>\n",
       "    </tr>\n",
       "    <tr>\n",
       "      <th>404287</th>\n",
       "      <td>5360327371237894144</td>\n",
       "      <td>0</td>\n",
       "      <td>14103023</td>\n",
       "      <td>1002</td>\n",
       "      <td>0</td>\n",
       "      <td>61a8c644</td>\n",
       "      <td>c4e18dd6</td>\n",
       "      <td>50e219e0</td>\n",
       "      <td>ecad2386</td>\n",
       "      <td>7801e8d9</td>\n",
       "      <td>...</td>\n",
       "      <td>0</td>\n",
       "      <td>0</td>\n",
       "      <td>21789</td>\n",
       "      <td>320</td>\n",
       "      <td>50</td>\n",
       "      <td>2512</td>\n",
       "      <td>2</td>\n",
       "      <td>291</td>\n",
       "      <td>-1</td>\n",
       "      <td>52</td>\n",
       "    </tr>\n",
       "    <tr>\n",
       "      <th>404288</th>\n",
       "      <td>8782688772576775168</td>\n",
       "      <td>1</td>\n",
       "      <td>14103023</td>\n",
       "      <td>1005</td>\n",
       "      <td>0</td>\n",
       "      <td>1fbe01fe</td>\n",
       "      <td>f3845767</td>\n",
       "      <td>28905ebd</td>\n",
       "      <td>ecad2386</td>\n",
       "      <td>7801e8d9</td>\n",
       "      <td>...</td>\n",
       "      <td>1</td>\n",
       "      <td>0</td>\n",
       "      <td>22254</td>\n",
       "      <td>320</td>\n",
       "      <td>50</td>\n",
       "      <td>2545</td>\n",
       "      <td>0</td>\n",
       "      <td>431</td>\n",
       "      <td>-1</td>\n",
       "      <td>221</td>\n",
       "    </tr>\n",
       "    <tr>\n",
       "      <th>404289</th>\n",
       "      <td>4657897218921320448</td>\n",
       "      <td>1</td>\n",
       "      <td>14103023</td>\n",
       "      <td>1005</td>\n",
       "      <td>0</td>\n",
       "      <td>1fbe01fe</td>\n",
       "      <td>f3845767</td>\n",
       "      <td>28905ebd</td>\n",
       "      <td>ecad2386</td>\n",
       "      <td>7801e8d9</td>\n",
       "      <td>...</td>\n",
       "      <td>1</td>\n",
       "      <td>0</td>\n",
       "      <td>22257</td>\n",
       "      <td>320</td>\n",
       "      <td>50</td>\n",
       "      <td>2545</td>\n",
       "      <td>0</td>\n",
       "      <td>431</td>\n",
       "      <td>100084</td>\n",
       "      <td>221</td>\n",
       "    </tr>\n",
       "  </tbody>\n",
       "</table>\n",
       "<p>404290 rows × 24 columns</p>\n",
       "</div>"
      ],
      "text/plain": [
       "                          id  click      hour    C1  banner_pos   site_id  \\\n",
       "0        3926754196077507072      1  14102100  1005           0  f84e52b6   \n",
       "1        4544181857823990784      1  14102100  1005           1  e151e245   \n",
       "2       12744445434029488128      0  14102100  1005           0  1fbe01fe   \n",
       "3        4063799378381284352      0  14102100  1005           0  1fbe01fe   \n",
       "4        6357775859397618688      1  14102100  1005           0  5b08c53b   \n",
       "...                      ...    ...       ...   ...         ...       ...   \n",
       "404285   9823785328714326016      0  14103023  1005           0  1fbe01fe   \n",
       "404286   5655954353396606976      1  14103023  1005           1  17caea14   \n",
       "404287   5360327371237894144      0  14103023  1002           0  61a8c644   \n",
       "404288   8782688772576775168      1  14103023  1005           0  1fbe01fe   \n",
       "404289   4657897218921320448      1  14103023  1005           0  1fbe01fe   \n",
       "\n",
       "       site_domain site_category    app_id app_domain  ... device_type  \\\n",
       "0         d7e2f29b      28905ebd  ecad2386   7801e8d9  ...           1   \n",
       "1         7e091613      f028772b  ecad2386   7801e8d9  ...           1   \n",
       "2         f3845767      28905ebd  ecad2386   7801e8d9  ...           1   \n",
       "3         f3845767      28905ebd  ecad2386   7801e8d9  ...           1   \n",
       "4         7687a86e      3e814130  ecad2386   7801e8d9  ...           1   \n",
       "...            ...           ...       ...        ...  ...         ...   \n",
       "404285    f3845767      28905ebd  ecad2386   7801e8d9  ...           1   \n",
       "404286    0dde25ec      f028772b  ecad2386   7801e8d9  ...           1   \n",
       "404287    c4e18dd6      50e219e0  ecad2386   7801e8d9  ...           0   \n",
       "404288    f3845767      28905ebd  ecad2386   7801e8d9  ...           1   \n",
       "404289    f3845767      28905ebd  ecad2386   7801e8d9  ...           1   \n",
       "\n",
       "       device_conn_type    C14  C15  C16   C17  C18  C19     C20  C21  \n",
       "0                     0  20346  300  250  2331    2   39      -1   23  \n",
       "1                     0  17037  320   50  1934    2   39      -1   16  \n",
       "2                     0  15699  320   50  1722    0   35  100083   79  \n",
       "3                     2  15699  320   50  1722    0   35      -1   79  \n",
       "4                     0  17654  300  250  1994    2   39  100083   33  \n",
       "...                 ...    ...  ...  ...   ...  ...  ...     ...  ...  \n",
       "404285                0  22254  320   50  2545    0  431  100084  221  \n",
       "404286                0  21412  320   50  2467    2  167  100081   23  \n",
       "404287                0  21789  320   50  2512    2  291      -1   52  \n",
       "404288                0  22254  320   50  2545    0  431      -1  221  \n",
       "404289                0  22257  320   50  2545    0  431  100084  221  \n",
       "\n",
       "[404290 rows x 24 columns]"
      ]
     },
     "execution_count": 7,
     "metadata": {},
     "output_type": "execute_result"
    }
   ],
   "source": [
    "df = pd.read_csv('train_sample.csv', compression='gzip')\n",
    "df"
   ]
  },
  {
   "cell_type": "code",
   "execution_count": 8,
   "id": "f4dfa0da-bc22-4917-9234-9409d54e2b76",
   "metadata": {},
   "outputs": [],
   "source": [
    "# get information of time \n",
    "\n",
    "df['hour'] = pd.to_datetime(df['hour'].astype(str), format='%y%m%d%H')  \n",
    "\n",
    "df['day'] = df['hour'].dt.day  \n",
    "\n",
    "df['weekday'] = df['hour'].dt.weekday\n",
    "df['is_weekend'] = df['hour'].dt.isocalendar().day >= 6  \n",
    "\n",
    "df['hour'] = df['hour'].dt.hour  \n",
    "df['is_morning'] = df['hour'].between(6, 12)\n",
    "df['is_afternoon'] = df['hour'].between(12, 18)\n",
    "df['is_evening'] = df['hour'].between(18, 24)\n",
    "\n",
    "df['hour_sin'] = np.sin(2 * np.pi * df['hour'] / 24)\n",
    "df['hour_cos'] = np.cos(2 * np.pi * df['hour'] / 24)"
   ]
  },
  {
   "cell_type": "code",
   "execution_count": 9,
   "id": "51bff222-5ad5-4ff4-9616-bb0908da1058",
   "metadata": {},
   "outputs": [],
   "source": [
    "# category\n",
    "\n",
    "categorical_columns = [\n",
    "    'site_id', 'site_domain', 'site_category', 'app_id', 'app_domain', 'app_category',\n",
    "    'device_id', 'device_ip', 'device_model', 'device_type', 'device_conn_type'\n",
    "]\n",
    "\n",
    "label_encoders = {}\n",
    "\n",
    "for col in categorical_columns:\n",
    "    label_encoders[col] = LabelEncoder()\n",
    "    df[col] = label_encoders[col].fit_transform(df[col])"
   ]
  },
  {
   "cell_type": "code",
   "execution_count": 10,
   "id": "ded2d8b7-270d-412c-8663-2b1e923b90ab",
   "metadata": {},
   "outputs": [
    {
     "name": "stdout",
     "output_type": "stream",
     "text": [
      "missing：\n",
      " Series([], dtype: int64)\n"
     ]
    }
   ],
   "source": [
    "missing_summary = df.isnull().sum()\n",
    "print(\"missing：\\n\", missing_summary[missing_summary > 0])\n",
    "\n",
    "df.fillna(-1, inplace=True)"
   ]
  },
  {
   "cell_type": "code",
   "execution_count": 11,
   "id": "566e7bab-cb2e-4608-8faa-6e1ac0a16919",
   "metadata": {},
   "outputs": [],
   "source": [
    "for col in ['C14', 'C15', 'C16', 'C17', 'C18', 'C19', 'C20', 'C21']:\n",
    "    label_enc = LabelEncoder()\n",
    "    df[col] = label_enc.fit_transform(df[col])\n"
   ]
  },
  {
   "cell_type": "code",
   "execution_count": 12,
   "id": "2949a2bd-d267-4618-b918-d12e79067f77",
   "metadata": {},
   "outputs": [],
   "source": [
    "df['site_app_combination'] = df['site_category'] * 1000 + df['app_category']  \n",
    "df['device_interaction'] = df['device_type'] * 10 + df['device_conn_type']   \n"
   ]
  },
  {
   "cell_type": "code",
   "execution_count": 13,
   "id": "729120e3-52dc-401d-86ca-8df437a094ea",
   "metadata": {},
   "outputs": [],
   "source": [
    "df['site_category_count'] = df.groupby('site_category')['click'].transform('count')  \n",
    "df['app_category_mean_click'] = df.groupby('app_category')['click'].transform('mean')  \n"
   ]
  },
  {
   "cell_type": "code",
   "execution_count": 14,
   "id": "70ea3a7f-74a7-4bb5-ae45-34796f5d7868",
   "metadata": {},
   "outputs": [],
   "source": [
    "df['site_device_combination'] = df['site_id'] * 100 + df['device_type']\n",
    "df['app_conn_combination'] = df['app_category'] * 10 + df['device_conn_type']\n",
    "df['site_app_device'] = df['site_category'] * 1000 + df['app_category'] * 10 + df['device_type']\n"
   ]
  },
  {
   "cell_type": "code",
   "execution_count": 15,
   "id": "f8967cea-7bc4-4816-97ba-578523f943fc",
   "metadata": {},
   "outputs": [],
   "source": [
    "df['site_click_rate'] = df.groupby('site_id')['click'].transform('mean')\n",
    "df['app_click_rate'] = df.groupby('app_id')['click'].transform('mean')\n",
    "\n",
    "df['site_count'] = df.groupby('site_id')['click'].transform('count')\n",
    "df['app_count'] = df.groupby('app_id')['click'].transform('count')\n"
   ]
  },
  {
   "cell_type": "code",
   "execution_count": 16,
   "id": "040325a4-7123-4c88-8fb4-a0678a9e3b8f",
   "metadata": {},
   "outputs": [],
   "source": [
    "df['device_type_conn_interaction'] = df['device_type'] * df['device_conn_type']\n",
    "df['C14_C17_product'] = df['C14'] * df['C17']\n"
   ]
  },
  {
   "cell_type": "code",
   "execution_count": 17,
   "id": "b1fff97e-956f-4ce5-99e7-2c80c5e8a5d9",
   "metadata": {},
   "outputs": [],
   "source": [
    "df['device_click_rate'] = df.groupby('device_id')['click'].transform('mean')\n",
    "df['device_count'] = df.groupby('device_id')['click'].transform('count')\n"
   ]
  },
  {
   "cell_type": "code",
   "execution_count": 18,
   "id": "75d3dd28-10ca-4c97-9a24-262652789b35",
   "metadata": {},
   "outputs": [],
   "source": [
    "df['site_app_click_rate'] = df.groupby(['site_category', 'app_category'])['click'].transform('mean')\n"
   ]
  },
  {
   "cell_type": "code",
   "execution_count": 19,
   "id": "05bb7061-9776-4f26-a238-b85fb3dfd40b",
   "metadata": {},
   "outputs": [],
   "source": [
    "df['combined_feature'] = df['C14'] * 100 + df['C17']\n"
   ]
  },
  {
   "cell_type": "code",
   "execution_count": 20,
   "id": "d712f516-7e17-445b-b4f1-1100344e092f",
   "metadata": {},
   "outputs": [],
   "source": [
    "df['C14_log'] = np.log1p(df['C14'])  \n",
    "df['C15_C16_ratio'] = df['C15'] / (df['C16'] + 1)  \n"
   ]
  },
  {
   "cell_type": "code",
   "execution_count": null,
   "id": "f17fed61-e74c-4b22-821d-b8add12df207",
   "metadata": {},
   "outputs": [],
   "source": []
  },
  {
   "cell_type": "markdown",
   "id": "c8c7a437-6c6f-40c8-98b3-ddbd9f8b44b1",
   "metadata": {},
   "source": [
    "### Data Modeling"
   ]
  },
  {
   "cell_type": "code",
   "execution_count": 21,
   "id": "65a38ddd-19d9-4154-9e31-e01a69f25e5e",
   "metadata": {},
   "outputs": [
    {
     "name": "stdout",
     "output_type": "stream",
     "text": [
      "The size of train: (323432, 50), The size of test: (80858, 50)\n"
     ]
    }
   ],
   "source": [
    "X = df.drop(columns=['click'])\n",
    "y = df['click']\n",
    "\n",
    "X_train, X_test, y_train, y_test = train_test_split(X, y, test_size=0.2, random_state=42)\n",
    "\n",
    "print(f\"The size of train: {X_train.shape}, The size of test: {X_test.shape}\")"
   ]
  },
  {
   "cell_type": "code",
   "execution_count": 22,
   "id": "2d91139f-eeb9-4259-b5f7-2c99d34a7bb0",
   "metadata": {},
   "outputs": [
    {
     "name": "stdout",
     "output_type": "stream",
     "text": [
      "AUC: 0.8150\n",
      "Classification Report:\n",
      "              precision    recall  f1-score   support\n",
      "\n",
      "           0       0.86      0.99      0.92     67228\n",
      "           1       0.84      0.20      0.33     13630\n",
      "\n",
      "    accuracy                           0.86     80858\n",
      "   macro avg       0.85      0.60      0.62     80858\n",
      "weighted avg       0.86      0.86      0.82     80858\n",
      "\n"
     ]
    }
   ],
   "source": [
    "# The basic model\n",
    "\n",
    "ctr = RandomForestClassifier(\n",
    "    n_estimators=100, \n",
    "    max_depth=10, \n",
    "    random_state=42, \n",
    "    n_jobs=-1\n",
    ")\n",
    "\n",
    "ctr.fit(X_train, y_train)\n",
    "\n",
    "y_pred = ctr.predict(X_test)\n",
    "y_pred_proba = ctr.predict_proba(X_test)[:, 1]\n",
    "\n",
    "auc = roc_auc_score(y_test, y_pred_proba)\n",
    "print(f\"AUC: {auc:.4f}\")\n",
    "print(\"Classification Report:\")\n",
    "print(classification_report(y_test, y_pred))\n"
   ]
  },
  {
   "cell_type": "code",
   "execution_count": 23,
   "id": "25fef680-3fe6-4e4f-be29-bf1da51a1557",
   "metadata": {},
   "outputs": [
    {
     "name": "stdout",
     "output_type": "stream",
     "text": [
      "AUC: 0.8163\n",
      "Classification Report:\n",
      "              precision    recall  f1-score   support\n",
      "\n",
      "           0       0.95      0.64      0.76     67228\n",
      "           1       0.32      0.82      0.46     13630\n",
      "\n",
      "    accuracy                           0.67     80858\n",
      "   macro avg       0.63      0.73      0.61     80858\n",
      "weighted avg       0.84      0.67      0.71     80858\n",
      "\n"
     ]
    }
   ],
   "source": [
    "# class weight\n",
    "\n",
    "ctr_balanced = RandomForestClassifier(\n",
    "    n_estimators=100, \n",
    "    max_depth=10, \n",
    "    random_state=42, \n",
    "    n_jobs=-1, \n",
    "    class_weight='balanced'\n",
    ")\n",
    "\n",
    "ctr_balanced.fit(X_train, y_train)\n",
    "\n",
    "y_pred_balanced = ctr_balanced.predict(X_test)\n",
    "y_pred_proba_balanced = ctr_balanced.predict_proba(X_test)[:, 1]\n",
    "\n",
    "auc_balanced = roc_auc_score(y_test, y_pred_proba_balanced)\n",
    "print(f\"AUC: {auc_balanced:.4f}\")\n",
    "print(\"Classification Report:\")\n",
    "print(classification_report(y_test, y_pred_balanced))\n"
   ]
  },
  {
   "cell_type": "code",
   "execution_count": 24,
   "id": "59603d6a-dad7-4283-8f52-acf9a7ef16e6",
   "metadata": {},
   "outputs": [
    {
     "name": "stdout",
     "output_type": "stream",
     "text": [
      "The best: 0.52\n",
      "Classification Report:\n",
      "              precision    recall  f1-score   support\n",
      "\n",
      "           0       0.94      0.66      0.78     67228\n",
      "           1       0.33      0.80      0.46     13630\n",
      "\n",
      "    accuracy                           0.69     80858\n",
      "   macro avg       0.63      0.73      0.62     80858\n",
      "weighted avg       0.84      0.69      0.73     80858\n",
      "\n"
     ]
    }
   ],
   "source": [
    "# ROC\n",
    "fpr, tpr, thresholds = roc_curve(y_test, y_pred_proba_balanced)\n",
    "optimal_idx = np.argmax(tpr - fpr)\n",
    "optimal_threshold = thresholds[optimal_idx]\n",
    "print(f\"The best: {optimal_threshold:.2f}\")\n",
    "\n",
    "y_pred_adjusted = (y_pred_proba_balanced >= optimal_threshold).astype(int)\n",
    "\n",
    "print(\"Classification Report:\")\n",
    "print(classification_report(y_test, y_pred_adjusted))\n"
   ]
  },
  {
   "cell_type": "code",
   "execution_count": 25,
   "id": "c547479a-64fb-446f-af04-d76cd93e0533",
   "metadata": {},
   "outputs": [
    {
     "name": "stdout",
     "output_type": "stream",
     "text": [
      "Feature Importance(Top 10):\n",
      "                    Feature  Importance\n",
      "44        device_click_rate    0.330231\n",
      "38          site_click_rate    0.164740\n",
      "39           app_click_rate    0.109305\n",
      "45             device_count    0.027800\n",
      "40               site_count    0.026068\n",
      "34  app_category_mean_click    0.020690\n",
      "22                      C21    0.020470\n",
      "10                device_id    0.019548\n",
      "46      site_app_click_rate    0.019021\n",
      "17                      C16    0.017736\n",
      "Low Feature Importance: ['app_conn_combination', 'site_id', 'C14_log', 'C14', 'C18', 'device_interaction', 'C15', 'site_app_combination', 'C14_C17_product', 'C1', 'device_type', 'C20', 'C17', 'site_category', 'app_category', 'app_domain', 'C19', 'site_category_count', 'hour', 'banner_pos', 'device_model', 'id', 'device_ip', 'hour_sin', 'device_conn_type', 'device_type_conn_interaction', 'hour_cos', 'day', 'is_evening', 'weekday', 'is_afternoon', 'is_morning', 'is_weekend']\n"
     ]
    }
   ],
   "source": [
    "feature_importances = pd.DataFrame({\n",
    "    'Feature': X_train.columns,\n",
    "    'Importance': ctr_balanced.feature_importances_\n",
    "}).sort_values(by='Importance', ascending=False)\n",
    "\n",
    "print(\"Feature Importance(Top 10):\")\n",
    "print(feature_importances.head(10))\n",
    "\n",
    "low_importance_features = feature_importances[feature_importances['Importance'] < 0.01]['Feature'].tolist()\n",
    "print(f\"Low Feature Importance: {low_importance_features}\")\n"
   ]
  },
  {
   "cell_type": "code",
   "execution_count": 26,
   "id": "19a7a6e1-12bd-47ea-906c-846ffb643eb9",
   "metadata": {},
   "outputs": [],
   "source": [
    "# remove the Low Feature Importance\n",
    "X_train_optimized = X_train.drop(columns=low_importance_features)\n",
    "X_test_optimized = X_test.drop(columns=low_importance_features)"
   ]
  },
  {
   "cell_type": "code",
   "execution_count": 27,
   "id": "4ded2940-0d7e-4e65-95b7-ad023f208c4f",
   "metadata": {},
   "outputs": [
    {
     "name": "stdout",
     "output_type": "stream",
     "text": [
      "Classification Report:\n",
      "              precision    recall  f1-score   support\n",
      "\n",
      "           0       0.95      0.62      0.75     67228\n",
      "           1       0.31      0.84      0.45     13630\n",
      "\n",
      "    accuracy                           0.65     80858\n",
      "   macro avg       0.63      0.73      0.60     80858\n",
      "weighted avg       0.84      0.65      0.70     80858\n",
      "\n",
      "AUC: 0.8155\n"
     ]
    }
   ],
   "source": [
    "ctr_optimized = RandomForestClassifier(\n",
    "    n_estimators=200,\n",
    "    max_depth=10,\n",
    "    random_state=42,\n",
    "    class_weight='balanced',\n",
    "    n_jobs=-1\n",
    ")\n",
    "\n",
    "ctr_optimized.fit(X_train_optimized, y_train)\n",
    "\n",
    "# 预测\n",
    "y_pred_optimized = ctr_optimized.predict(X_test_optimized)\n",
    "y_pred_proba_optimized = ctr_optimized.predict_proba(X_test_optimized)[:, 1]\n",
    "\n",
    "print(\"Classification Report:\")\n",
    "print(classification_report(y_test, y_pred_optimized))\n",
    "print(f\"AUC: {roc_auc_score(y_test, y_pred_proba_optimized):.4f}\")"
   ]
  },
  {
   "cell_type": "code",
   "execution_count": 28,
   "id": "db44e8f0-1bb3-4b9e-bbb9-6c9bfa711798",
   "metadata": {},
   "outputs": [],
   "source": [
    "time_features = ['hour_sin', 'hour_cos', 'hour', 'weekday', 'is_weekend']\n",
    "X_train_restored = X_train_optimized.join(X_train[time_features])\n",
    "X_test_restored = X_test_optimized.join(X_test[time_features])"
   ]
  },
  {
   "cell_type": "code",
   "execution_count": 29,
   "id": "7ce6d233-63f6-48b2-81ee-974aec1951bb",
   "metadata": {},
   "outputs": [
    {
     "name": "stdout",
     "output_type": "stream",
     "text": [
      "Classification Report:\n",
      "              precision    recall  f1-score   support\n",
      "\n",
      "           0       0.95      0.64      0.76     67228\n",
      "           1       0.32      0.82      0.46     13630\n",
      "\n",
      "    accuracy                           0.67     80858\n",
      "   macro avg       0.63      0.73      0.61     80858\n",
      "weighted avg       0.84      0.67      0.71     80858\n",
      "\n",
      "AUC: 0.8156\n"
     ]
    }
   ],
   "source": [
    "ctr_restored = RandomForestClassifier(\n",
    "    n_estimators=200,\n",
    "    max_depth=10,\n",
    "    random_state=42,\n",
    "    class_weight='balanced',\n",
    "    n_jobs=-1\n",
    ")\n",
    "ctr_restored.fit(X_train_restored, y_train)\n",
    "\n",
    "y_pred_restored = ctr_restored.predict(X_test_restored)\n",
    "y_pred_proba_restored = ctr_restored.predict_proba(X_test_restored)[:, 1]\n",
    "\n",
    "print(\"Classification Report:\")\n",
    "print(classification_report(y_test, y_pred_restored))\n",
    "print(f\"AUC: {roc_auc_score(y_test, y_pred_proba_restored):.4f}\")"
   ]
  },
  {
   "cell_type": "code",
   "execution_count": 30,
   "id": "309ab28f-ea0c-4707-ba26-89cab41a3a7f",
   "metadata": {},
   "outputs": [],
   "source": [
    "X_train_interactions = X_train_restored.copy()\n",
    "X_test_interactions = X_test_restored.copy()\n",
    "\n",
    "X_train_interactions['click_rate_interaction'] = X_train_interactions['device_click_rate'] * X_train_interactions['site_click_rate']\n",
    "X_test_interactions['click_rate_interaction'] = X_test_interactions['device_click_rate'] * X_test_interactions['site_click_rate']"
   ]
  },
  {
   "cell_type": "code",
   "execution_count": 31,
   "id": "12fe23aa-f854-4e77-867a-7c134718f851",
   "metadata": {},
   "outputs": [
    {
     "name": "stdout",
     "output_type": "stream",
     "text": [
      "Classification Report:\n",
      "              precision    recall  f1-score   support\n",
      "\n",
      "           0       0.95      0.64      0.76     67228\n",
      "           1       0.32      0.82      0.46     13630\n",
      "\n",
      "    accuracy                           0.67     80858\n",
      "   macro avg       0.63      0.73      0.61     80858\n",
      "weighted avg       0.84      0.67      0.71     80858\n",
      "\n",
      "AUC: 0.8164\n"
     ]
    }
   ],
   "source": [
    "ctr_interactions = RandomForestClassifier(\n",
    "    n_estimators=200,\n",
    "    max_depth=10,\n",
    "    random_state=42,\n",
    "    class_weight='balanced',\n",
    "    n_jobs=-1\n",
    ")\n",
    "ctr_interactions.fit(X_train_interactions, y_train)\n",
    "\n",
    "y_pred_interactions = ctr_interactions.predict(X_test_interactions)\n",
    "y_pred_proba_interactions = ctr_interactions.predict_proba(X_test_interactions)[:, 1]\n",
    "\n",
    "print(\"Classification Report:\")\n",
    "print(classification_report(y_test, y_pred_interactions))\n",
    "print(f\"AUC: {roc_auc_score(y_test, y_pred_proba_interactions):.4f}\")"
   ]
  },
  {
   "cell_type": "code",
   "execution_count": 32,
   "id": "7054d129-877a-4c17-ad9e-df4656d00c20",
   "metadata": {},
   "outputs": [
    {
     "name": "stdout",
     "output_type": "stream",
     "text": [
      "Classification Report:\n",
      "              precision    recall  f1-score   support\n",
      "\n",
      "           0       0.94      0.67      0.78     67228\n",
      "           1       0.33      0.79      0.46     13630\n",
      "\n",
      "    accuracy                           0.69     80858\n",
      "   macro avg       0.63      0.73      0.62     80858\n",
      "weighted avg       0.84      0.69      0.73     80858\n",
      "\n",
      "AUC: 0.8161\n"
     ]
    }
   ],
   "source": [
    "rf_complex = RandomForestClassifier(\n",
    "    n_estimators=300,  \n",
    "    max_depth=15,\n",
    "    random_state=42,\n",
    "    class_weight='balanced',\n",
    "    n_jobs=-1\n",
    ")\n",
    "rf_complex.fit(X_train_interactions, y_train)\n",
    "\n",
    "y_pred_complex = rf_complex.predict(X_test_interactions)\n",
    "y_pred_proba_complex = rf_complex.predict_proba(X_test_interactions)[:, 1]\n",
    "\n",
    "\n",
    "print(\"Classification Report:\")\n",
    "print(classification_report(y_test, y_pred_complex))\n",
    "print(f\"AUC: {roc_auc_score(y_test, y_pred_proba_complex):.4f}\")\n"
   ]
  },
  {
   "cell_type": "code",
   "execution_count": 33,
   "id": "f16a5513-1964-4131-bf04-f94bce06cda6",
   "metadata": {},
   "outputs": [
    {
     "name": "stdout",
     "output_type": "stream",
     "text": [
      "Fitting 3 folds for each of 10 candidates, totalling 30 fits\n",
      "[CV] END class_weight=balanced, max_depth=20, min_samples_leaf=1, min_samples_split=5, n_estimators=200; total time=   6.1s\n",
      "[CV] END class_weight=balanced, max_depth=20, min_samples_leaf=1, min_samples_split=5, n_estimators=200; total time=   5.6s\n",
      "[CV] END class_weight=balanced, max_depth=20, min_samples_leaf=1, min_samples_split=5, n_estimators=200; total time=   5.6s\n",
      "[CV] END class_weight=balanced, max_depth=10, min_samples_leaf=1, min_samples_split=10, n_estimators=300; total time=   5.6s\n",
      "[CV] END class_weight=balanced, max_depth=10, min_samples_leaf=1, min_samples_split=10, n_estimators=300; total time=   5.7s\n",
      "[CV] END class_weight=balanced, max_depth=10, min_samples_leaf=1, min_samples_split=10, n_estimators=300; total time=   5.9s\n",
      "[CV] END class_weight=balanced, max_depth=10, min_samples_leaf=1, min_samples_split=5, n_estimators=100; total time=   2.0s\n",
      "[CV] END class_weight=balanced, max_depth=10, min_samples_leaf=1, min_samples_split=5, n_estimators=100; total time=   2.0s\n",
      "[CV] END class_weight=balanced, max_depth=10, min_samples_leaf=1, min_samples_split=5, n_estimators=100; total time=   2.0s\n",
      "[CV] END class_weight=balanced, max_depth=20, min_samples_leaf=1, min_samples_split=10, n_estimators=400; total time=  11.5s\n",
      "[CV] END class_weight=balanced, max_depth=20, min_samples_leaf=1, min_samples_split=10, n_estimators=400; total time=  12.4s\n",
      "[CV] END class_weight=balanced, max_depth=20, min_samples_leaf=1, min_samples_split=10, n_estimators=400; total time=  11.4s\n",
      "[CV] END class_weight=balanced, max_depth=15, min_samples_leaf=4, min_samples_split=2, n_estimators=300; total time=   8.1s\n",
      "[CV] END class_weight=balanced, max_depth=15, min_samples_leaf=4, min_samples_split=2, n_estimators=300; total time=   8.3s\n",
      "[CV] END class_weight=balanced, max_depth=15, min_samples_leaf=4, min_samples_split=2, n_estimators=300; total time=   7.7s\n",
      "[CV] END class_weight=balanced, max_depth=15, min_samples_leaf=4, min_samples_split=5, n_estimators=400; total time=   9.9s\n",
      "[CV] END class_weight=balanced, max_depth=15, min_samples_leaf=4, min_samples_split=5, n_estimators=400; total time=   9.9s\n",
      "[CV] END class_weight=balanced, max_depth=15, min_samples_leaf=4, min_samples_split=5, n_estimators=400; total time=  10.2s\n",
      "[CV] END class_weight=balanced, max_depth=10, min_samples_leaf=4, min_samples_split=5, n_estimators=300; total time=   7.0s\n",
      "[CV] END class_weight=balanced, max_depth=10, min_samples_leaf=4, min_samples_split=5, n_estimators=300; total time=   6.3s\n",
      "[CV] END class_weight=balanced, max_depth=10, min_samples_leaf=4, min_samples_split=5, n_estimators=300; total time=   6.1s\n",
      "[CV] END class_weight=balanced, max_depth=15, min_samples_leaf=1, min_samples_split=10, n_estimators=200; total time=   5.1s\n",
      "[CV] END class_weight=balanced, max_depth=15, min_samples_leaf=1, min_samples_split=10, n_estimators=200; total time=   5.1s\n",
      "[CV] END class_weight=balanced, max_depth=15, min_samples_leaf=1, min_samples_split=10, n_estimators=200; total time=   5.0s\n",
      "[CV] END class_weight=balanced, max_depth=20, min_samples_leaf=2, min_samples_split=10, n_estimators=400; total time=  11.4s\n",
      "[CV] END class_weight=balanced, max_depth=20, min_samples_leaf=2, min_samples_split=10, n_estimators=400; total time=  12.0s\n",
      "[CV] END class_weight=balanced, max_depth=20, min_samples_leaf=2, min_samples_split=10, n_estimators=400; total time=  12.9s\n",
      "[CV] END class_weight=balanced, max_depth=10, min_samples_leaf=1, min_samples_split=10, n_estimators=400; total time=   8.5s\n",
      "[CV] END class_weight=balanced, max_depth=10, min_samples_leaf=1, min_samples_split=10, n_estimators=400; total time=   8.5s\n",
      "[CV] END class_weight=balanced, max_depth=10, min_samples_leaf=1, min_samples_split=10, n_estimators=400; total time=   8.4s\n"
     ]
    },
    {
     "name": "stderr",
     "output_type": "stream",
     "text": [
      "/Users/jenny/anaconda3/envs/MLP_Project/lib/python3.11/site-packages/numpy/ma/core.py:2820: RuntimeWarning: invalid value encountered in cast\n",
      "  _data = np.array(data, dtype=dtype, copy=copy,\n"
     ]
    },
    {
     "name": "stdout",
     "output_type": "stream",
     "text": [
      "The best parameters:\n",
      "{'n_estimators': 400, 'min_samples_split': 5, 'min_samples_leaf': 4, 'max_depth': 15, 'class_weight': 'balanced'}\n",
      "Classification Report:\n",
      "              precision    recall  f1-score   support\n",
      "\n",
      "           0       0.94      0.67      0.78     67228\n",
      "           1       0.33      0.79      0.46     13630\n",
      "\n",
      "    accuracy                           0.69     80858\n",
      "   macro avg       0.63      0.73      0.62     80858\n",
      "weighted avg       0.84      0.69      0.73     80858\n",
      "\n",
      "AUC: 0.8178\n"
     ]
    }
   ],
   "source": [
    "#validat by using RandomizedSearchCV\n",
    "\n",
    "param_dist = {\n",
    "    'n_estimators': [100, 200, 300, 400],\n",
    "    'max_depth': [10, 15, 20],\n",
    "    'min_samples_split': [2, 5, 10],\n",
    "    'min_samples_leaf': [1, 2, 4],\n",
    "    'class_weight': ['balanced']\n",
    "}\n",
    "\n",
    "random_search = RandomizedSearchCV(\n",
    "    estimator=RandomForestClassifier(random_state=42, n_jobs=-1),\n",
    "    param_distributions=param_dist,\n",
    "    n_iter=10,  # 控制随机搜索的次数\n",
    "    scoring='roc_auc',\n",
    "    cv=3,\n",
    "    verbose=2,\n",
    "    random_state=42\n",
    ")\n",
    "\n",
    "random_search.fit(X_train_interactions, y_train)\n",
    "\n",
    "best_rf = random_search.best_estimator_\n",
    "print(\"The best parameters:\")\n",
    "print(random_search.best_params_)\n",
    "\n",
    "y_pred_rs = best_rf.predict(X_test_interactions)\n",
    "y_pred_proba_rs = best_rf.predict_proba(X_test_interactions)[:, 1]\n",
    "\n",
    "from sklearn.metrics import classification_report, roc_auc_score\n",
    "print(\"Classification Report:\")\n",
    "print(classification_report(y_test, y_pred_rs))\n",
    "print(f\"AUC: {roc_auc_score(y_test, y_pred_proba_rs):.4f}\")\n"
   ]
  },
  {
   "cell_type": "markdown",
   "id": "2c5003f4-cff7-4321-8434-5a587e559cee",
   "metadata": {},
   "source": [
    "### Save Model"
   ]
  },
  {
   "cell_type": "code",
   "execution_count": 34,
   "id": "72caf014-3370-44b8-a609-3cb886ee0713",
   "metadata": {},
   "outputs": [
    {
     "name": "stdout",
     "output_type": "stream",
     "text": [
      "Classification Report:\n",
      "              precision    recall  f1-score   support\n",
      "\n",
      "           0       0.94      0.67      0.78     67228\n",
      "           1       0.33      0.79      0.46     13630\n",
      "\n",
      "    accuracy                           0.69     80858\n",
      "   macro avg       0.63      0.73      0.62     80858\n",
      "weighted avg       0.84      0.69      0.73     80858\n",
      "\n"
     ]
    }
   ],
   "source": [
    "joblib.dump(rf_complex, 'final_random_forest_model.pkl')\n",
    "\n",
    "loaded_model = joblib.load('final_random_forest_model.pkl')\n",
    "\n",
    "y_pred_loaded = loaded_model.predict(X_test_interactions)\n",
    "print(\"Classification Report:\")\n",
    "print(classification_report(y_test, y_pred_loaded))\n"
   ]
  },
  {
   "cell_type": "markdown",
   "id": "1ccef186-e1b5-4584-9dd9-7d52a0b2d9ff",
   "metadata": {},
   "source": [
    "### Model Interpretation"
   ]
  },
  {
   "cell_type": "code",
   "execution_count": 35,
   "id": "e8a7387a-b8bf-46a3-bde4-8d6940a328fa",
   "metadata": {},
   "outputs": [
    {
     "name": "stdout",
     "output_type": "stream",
     "text": [
      "                    Feature  Importance\n",
      "22   click_rate_interaction    0.310644\n",
      "12        device_click_rate    0.176517\n",
      "8           site_click_rate    0.109475\n",
      "9            app_click_rate    0.088704\n",
      "15         combined_feature    0.032176\n",
      "13             device_count    0.031367\n",
      "4                       C21    0.028850\n",
      "14      site_app_click_rate    0.025695\n",
      "10               site_count    0.018876\n",
      "5   app_category_mean_click    0.017297\n"
     ]
    },
    {
     "data": {
      "image/png": "[encoded data removed]",
      "text/plain": [
       "<Figure size 1000x600 with 1 Axes>"
      ]
     },
     "metadata": {},
     "output_type": "display_data"
    }
   ],
   "source": [
    "feature_importances = pd.DataFrame({\n",
    "    'Feature': X_train_interactions.columns,\n",
    "    'Importance': best_rf.feature_importances_\n",
    "}).sort_values(by='Importance', ascending=False)\n",
    "\n",
    "print(feature_importances.head(10))\n",
    "\n",
    "plt.figure(figsize=(10, 6))\n",
    "plt.barh(feature_importances['Feature'][:10], feature_importances['Importance'][:10])\n",
    "plt.xlabel('Importance')\n",
    "plt.ylabel('Feature')\n",
    "plt.title('Top 10 Feature Importances')\n",
    "plt.gca().invert_yaxis()\n",
    "plt.show()\n"
   ]
  },
  {
   "cell_type": "code",
   "execution_count": null,
   "id": "10e0c0ef-7b71-48aa-8e87-1bcb9f60e079",
   "metadata": {},
   "outputs": [],
   "source": []
  },
  {
   "cell_type": "code",
   "execution_count": null,
   "id": "b478fb8e-af05-4ed9-a8c1-d781083eca57",
   "metadata": {},
   "outputs": [],
   "source": []
  },
  {
   "cell_type": "code",
   "execution_count": null,
   "id": "10b7dd5b-7567-45aa-b103-e2e8d9e9fd23",
   "metadata": {},
   "outputs": [],
   "source": []
  },
  {
   "cell_type": "code",
   "execution_count": null,
   "id": "be32dc3c-ba68-416e-ac73-e065f7f8b4ff",
   "metadata": {},
   "outputs": [],
   "source": []
  },
  {
   "cell_type": "code",
   "execution_count": null,
   "id": "0cdbbd12-1865-4e1a-bc60-692d697a3105",
   "metadata": {},
   "outputs": [],
   "source": []
  },
  {
   "cell_type": "code",
   "execution_count": null,
   "id": "01bac333-be1c-44e0-99c6-fd6acb4ee41d",
   "metadata": {},
   "outputs": [],
   "source": []
  },
  {
   "cell_type": "code",
   "execution_count": null,
   "id": "bb4a2bfa-6732-4e11-9555-12fb29ef410b",
   "metadata": {},
   "outputs": [],
   "source": []
  },
  {
   "cell_type": "code",
   "execution_count": null,
   "id": "cc453199-55d4-4210-a21f-4e257e004846",
   "metadata": {},
   "outputs": [],
   "source": []
  },
  {
   "cell_type": "code",
   "execution_count": null,
   "id": "4dac7304-b854-47ec-865b-f1c205e956f7",
   "metadata": {},
   "outputs": [],
   "source": []
  },
  {
   "cell_type": "code",
   "execution_count": null,
   "id": "e7638db8-1bf1-4ade-86c1-989d68a4d0e2",
   "metadata": {},
   "outputs": [],
   "source": []
  },
  {
   "cell_type": "markdown",
   "id": "efb18e22-f64b-4ec0-941a-28d9d90c6183",
   "metadata": {},
   "source": [
    "### Appendix"
   ]
  },
  {
   "cell_type": "code",
   "execution_count": 40,
   "id": "c1ad6cd2-b972-41a6-99a1-bb095c1ae90c",
   "metadata": {},
   "outputs": [
    {
     "name": "stdout",
     "output_type": "stream",
     "text": [
      "site_domain                  int64\n",
      "app_id                       int64\n",
      "device_id                    int64\n",
      "C16                          int64\n",
      "C21                          int64\n",
      "app_category_mean_click    float64\n",
      "site_device_combination      int64\n",
      "site_app_device              int64\n",
      "site_click_rate            float64\n",
      "app_click_rate             float64\n",
      "site_count                   int64\n",
      "app_count                    int64\n",
      "device_click_rate          float64\n",
      "device_count                 int64\n",
      "site_app_click_rate        float64\n",
      "combined_feature             int64\n",
      "C15_C16_ratio              float64\n",
      "hour_sin                   float64\n",
      "hour_cos                   float64\n",
      "hour                         int32\n",
      "weekday                      int32\n",
      "is_weekend                 boolean\n",
      "click_rate_interaction     float64\n",
      "dtype: object\n",
      "非数值类型特征: Index(['hour', 'weekday', 'is_weekend'], dtype='object')\n"
     ]
    }
   ],
   "source": [
    "print(X_train_interactions.dtypes)\n",
    "\n",
    "non_numeric_columns = X_train_interactions.select_dtypes(exclude=['int64', 'float64']).columns\n",
    "print(f\"非数值类型特征: {non_numeric_columns}\")\n"
   ]
  },
  {
   "cell_type": "code",
   "execution_count": 41,
   "id": "2234161e-de1b-4ef4-8786-6cf483ed368c",
   "metadata": {},
   "outputs": [],
   "source": [
    "X_train_interactions = X_train_interactions.astype({col: 'int' for col in non_numeric_columns})\n"
   ]
  },
  {
   "cell_type": "code",
   "execution_count": 42,
   "id": "d364dd1a-7bf3-4c6f-8dd3-486d1df1c2aa",
   "metadata": {},
   "outputs": [],
   "source": [
    "from sklearn.preprocessing import LabelEncoder\n",
    "\n",
    "label_encoders = {}\n",
    "for col in non_numeric_columns:\n",
    "    le = LabelEncoder()\n",
    "    X_train_interactions[col] = le.fit_transform(X_train_interactions[col])\n",
    "    label_encoders[col] = le  \n"
   ]
  },
  {
   "cell_type": "code",
   "execution_count": 43,
   "id": "311d8002-fe73-4d7c-a07f-4ffd3649407a",
   "metadata": {},
   "outputs": [],
   "source": [
    "X_train_interactions = X_train_interactions.drop(columns=non_numeric_columns)\n",
    "X_test_interactions = X_test_interactions.drop(columns=non_numeric_columns)"
   ]
  },
  {
   "cell_type": "code",
   "execution_count": 44,
   "id": "37f201d1-9b2d-4db9-b4b3-45e24f062b22",
   "metadata": {},
   "outputs": [
    {
     "name": "stdout",
     "output_type": "stream",
     "text": [
      "The size of initial data: (323432, 20)\n",
      "The size after SMOTE: (537106, 20)\n"
     ]
    }
   ],
   "source": [
    "smote = SMOTE(random_state=42)\n",
    "X_resampled, y_resampled = smote.fit_resample(X_train_interactions, y_train)\n",
    "\n",
    "print(f\"The size of initial data: {X_train_interactions.shape}\")\n",
    "print(f\"The size after SMOTE: {X_resampled.shape}\")"
   ]
  },
  {
   "cell_type": "code",
   "execution_count": 45,
   "id": "7f3c335b-8a6a-400e-8efb-f33e1371f63d",
   "metadata": {},
   "outputs": [
    {
     "name": "stdout",
     "output_type": "stream",
     "text": [
      "Classification Report:\n",
      "              precision    recall  f1-score   support\n",
      "\n",
      "           0       0.95      0.63      0.76     67228\n",
      "           1       0.31      0.82      0.45     13630\n",
      "\n",
      "    accuracy                           0.67     80858\n",
      "   macro avg       0.63      0.73      0.61     80858\n",
      "weighted avg       0.84      0.67      0.71     80858\n",
      "\n",
      "AUC: 0.8148\n"
     ]
    }
   ],
   "source": [
    "from imblearn.over_sampling import SMOTE\n",
    "from sklearn.ensemble import RandomForestClassifier\n",
    "from sklearn.metrics import classification_report, roc_auc_score\n",
    "\n",
    "smote = SMOTE(random_state=42)\n",
    "X_resampled, y_resampled = smote.fit_resample(X_train_interactions, y_train)\n",
    "\n",
    "rf_smote = RandomForestClassifier(\n",
    "    n_estimators=200,\n",
    "    max_depth=10,\n",
    "    random_state=42,\n",
    "    class_weight='balanced',\n",
    "    n_jobs=-1\n",
    ")\n",
    "rf_smote.fit(X_resampled, y_resampled)\n",
    "\n",
    "y_pred_smote = rf_smote.predict(X_test_interactions)\n",
    "y_pred_proba_smote = rf_smote.predict_proba(X_test_interactions)[:, 1]\n",
    "\n",
    "\n",
    "print(\"Classification Report:\")\n",
    "print(classification_report(y_test, y_pred_smote))\n",
    "print(f\"AUC: {roc_auc_score(y_test, y_pred_proba_smote):.4f}\")\n"
   ]
  },
  {
   "cell_type": "code",
   "execution_count": 46,
   "id": "d1b6625b-28e2-409a-be1a-bd5144561dd6",
   "metadata": {},
   "outputs": [
    {
     "data": {
      "image/png": "[encoded data removed]",
      "text/plain": [
       "<Figure size 800x600 with 1 Axes>"
      ]
     },
     "metadata": {},
     "output_type": "display_data"
    }
   ],
   "source": [
    "from sklearn.metrics import precision_recall_curve\n",
    "import matplotlib.pyplot as plt\n",
    "\n",
    "\n",
    "precision, recall, thresholds = precision_recall_curve(y_test, y_pred_proba_smote)\n",
    "\n",
    "\n",
    "plt.figure(figsize=(8, 6))\n",
    "plt.plot(recall, precision, label='PR Curve (AUC: {:.4f})'.format(roc_auc_score(y_test, y_pred_proba_smote)))\n",
    "plt.xlabel('Recall')\n",
    "plt.ylabel('Precision')\n",
    "plt.title('Precision-Recall Curve')\n",
    "plt.legend()\n",
    "plt.grid()\n",
    "plt.show()\n"
   ]
  },
  {
   "cell_type": "code",
   "execution_count": 47,
   "id": "251ebffc-7c5c-475c-90a1-6b2d833c1c08",
   "metadata": {},
   "outputs": [
    {
     "data": {
      "image/png": "[encoded data removed]",
      "text/plain": [
       "<Figure size 640x480 with 2 Axes>"
      ]
     },
     "metadata": {},
     "output_type": "display_data"
    }
   ],
   "source": [
    "from sklearn.metrics import confusion_matrix, ConfusionMatrixDisplay\n",
    "\n",
    "\n",
    "cm = confusion_matrix(y_test, y_pred_smote)\n",
    "\n",
    "\n",
    "disp = ConfusionMatrixDisplay(confusion_matrix=cm, display_labels=['Not Clicked', 'Clicked'])\n",
    "disp.plot(cmap='Blues')\n",
    "plt.title('Confusion Matrix')\n",
    "plt.show()\n"
   ]
  },
  {
   "cell_type": "code",
   "execution_count": 48,
   "id": "6ea7862d-a4c0-4fc1-97a9-0807fb6fd61f",
   "metadata": {},
   "outputs": [
    {
     "name": "stdout",
     "output_type": "stream",
     "text": [
      "The best: 0.57\n",
      "Classification Report:\n",
      "              precision    recall  f1-score   support\n",
      "\n",
      "           0       0.92      0.76      0.83     67228\n",
      "           1       0.36      0.68      0.47     13630\n",
      "\n",
      "    accuracy                           0.74     80858\n",
      "   macro avg       0.64      0.72      0.65     80858\n",
      "weighted avg       0.83      0.74      0.77     80858\n",
      "\n"
     ]
    }
   ],
   "source": [
    "from sklearn.metrics import precision_recall_curve, classification_report\n",
    "\n",
    "precision, recall, thresholds = precision_recall_curve(y_test, y_pred_proba_smote)\n",
    "\n",
    "\n",
    "f1_scores = 2 * (precision * recall) / (precision + recall)\n",
    "optimal_idx = f1_scores.argmax()\n",
    "optimal_threshold = thresholds[optimal_idx]\n",
    "\n",
    "print(f\"The best: {optimal_threshold:.2f}\")\n",
    "\n",
    "\n",
    "y_pred_adjusted = (y_pred_proba_smote >= optimal_threshold).astype(int)\n",
    "\n",
    "\n",
    "print(\"Classification Report:\")\n",
    "print(classification_report(y_test, y_pred_adjusted))\n"
   ]
  },
  {
   "cell_type": "code",
   "execution_count": 49,
   "id": "00e699d5-2532-4218-bac4-89eef7475275",
   "metadata": {},
   "outputs": [
    {
     "name": "stdout",
     "output_type": "stream",
     "text": [
      "Feature Importance:\n",
      "                    Feature  Importance\n",
      "19   click_rate_interaction    0.357333\n",
      "12        device_click_rate    0.178168\n",
      "8           site_click_rate    0.114376\n",
      "9            app_click_rate    0.095465\n",
      "13             device_count    0.036088\n",
      "14      site_app_click_rate    0.028613\n",
      "5   app_category_mean_click    0.021551\n",
      "10               site_count    0.018404\n",
      "2                 device_id    0.017142\n",
      "4                       C21    0.016791\n",
      "Classification Report:\n",
      "              precision    recall  f1-score   support\n",
      "\n",
      "           0       0.95      0.64      0.76     67228\n",
      "           1       0.32      0.82      0.46     13630\n",
      "\n",
      "    accuracy                           0.67     80858\n",
      "   macro avg       0.63      0.73      0.61     80858\n",
      "weighted avg       0.84      0.67      0.71     80858\n",
      "\n",
      "AUC: 0.8156\n"
     ]
    }
   ],
   "source": [
    "\n",
    "feature_importances = pd.DataFrame({\n",
    "    'Feature': X_train_interactions.columns,\n",
    "    'Importance': rf_smote.feature_importances_\n",
    "}).sort_values(by='Importance', ascending=False)\n",
    "\n",
    "print(\"Feature Importance:\")\n",
    "print(feature_importances.head(10))\n",
    "\n",
    "\n",
    "low_importance_features = feature_importances[feature_importances['Importance'] < 0.01]['Feature'].tolist()\n",
    "X_train_filtered = X_train_interactions.drop(columns=low_importance_features)\n",
    "X_test_filtered = X_test_interactions.drop(columns=low_importance_features)\n",
    "\n",
    "\n",
    "rf_filtered = RandomForestClassifier(\n",
    "    n_estimators=200,\n",
    "    max_depth=10,\n",
    "    random_state=42,\n",
    "    class_weight='balanced',\n",
    "    n_jobs=-1\n",
    ")\n",
    "rf_filtered.fit(X_train_filtered, y_train)\n",
    "\n",
    "\n",
    "y_pred_filtered = rf_filtered.predict(X_test_filtered)\n",
    "y_pred_proba_filtered = rf_filtered.predict_proba(X_test_filtered)[:, 1]\n",
    "print(\"Classification Report:\")\n",
    "print(classification_report(y_test, y_pred_filtered))\n",
    "print(f\"AUC: {roc_auc_score(y_test, y_pred_proba_filtered):.4f}\")\n"
   ]
  },
  {
   "cell_type": "code",
   "execution_count": 50,
   "id": "126bd18a-38c2-48ae-974e-b6ca91d690cb",
   "metadata": {},
   "outputs": [
    {
     "name": "stdout",
     "output_type": "stream",
     "text": [
      "Classification Report:\n",
      "              precision    recall  f1-score   support\n",
      "\n",
      "           0       0.95      0.63      0.76     67228\n",
      "           1       0.31      0.83      0.45     13630\n",
      "\n",
      "    accuracy                           0.67     80858\n",
      "   macro avg       0.63      0.73      0.61     80858\n",
      "weighted avg       0.84      0.67      0.71     80858\n",
      "\n",
      "AUC: 0.8167\n"
     ]
    }
   ],
   "source": [
    "X_train_interactions['click_rate_interaction_sq'] = X_train_interactions['click_rate_interaction'] ** 2\n",
    "X_test_interactions['click_rate_interaction_sq'] = X_test_interactions['click_rate_interaction'] ** 2\n",
    "\n",
    "X_train_interactions['device_app_click_rate'] = X_train_interactions['device_click_rate'] * X_train_interactions['app_click_rate']\n",
    "X_test_interactions['device_app_click_rate'] = X_test_interactions['device_click_rate'] * X_test_interactions['app_click_rate']\n",
    "\n",
    "rf_interactions = RandomForestClassifier(\n",
    "    n_estimators=200,\n",
    "    max_depth=10,\n",
    "    random_state=42,\n",
    "    class_weight='balanced',\n",
    "    n_jobs=-1\n",
    ")\n",
    "rf_interactions.fit(X_train_interactions, y_train)\n",
    "\n",
    "\n",
    "y_pred_interactions = rf_interactions.predict(X_test_interactions)\n",
    "y_pred_proba_interactions = rf_interactions.predict_proba(X_test_interactions)[:, 1]\n",
    "\n",
    "print(\"Classification Report:\")\n",
    "print(classification_report(y_test, y_pred_interactions))\n",
    "print(f\"AUC: {roc_auc_score(y_test, y_pred_proba_interactions):.4f}\")\n"
   ]
  },
  {
   "cell_type": "code",
   "execution_count": 51,
   "id": "373b300f-f29a-4c7d-8367-786ac96413f7",
   "metadata": {},
   "outputs": [
    {
     "name": "stdout",
     "output_type": "stream",
     "text": [
      "Classification Report:\n",
      "              precision    recall  f1-score   support\n",
      "\n",
      "           0       0.95      0.64      0.76     67228\n",
      "           1       0.31      0.82      0.46     13630\n",
      "\n",
      "    accuracy                           0.67     80858\n",
      "   macro avg       0.63      0.73      0.61     80858\n",
      "weighted avg       0.84      0.67      0.71     80858\n",
      "\n",
      "AUC: 0.8152\n"
     ]
    }
   ],
   "source": [
    "from imblearn.combine import SMOTETomek\n",
    "\n",
    "\n",
    "smote_tomek = SMOTETomek(random_state=42)\n",
    "X_resampled_tomek, y_resampled_tomek = smote_tomek.fit_resample(X_train_interactions, y_train)\n",
    "\n",
    "\n",
    "rf_smote_tomek = RandomForestClassifier(\n",
    "    n_estimators=200,\n",
    "    max_depth=10,\n",
    "    random_state=42,\n",
    "    class_weight='balanced',\n",
    "    n_jobs=-1\n",
    ")\n",
    "rf_smote_tomek.fit(X_resampled_tomek, y_resampled_tomek)\n",
    "\n",
    "\n",
    "y_pred_smote_tomek = rf_smote_tomek.predict(X_test_interactions)\n",
    "y_pred_proba_smote_tomek = rf_smote_tomek.predict_proba(X_test_interactions)[:, 1]\n",
    "\n",
    "print(\"Classification Report:\")\n",
    "print(classification_report(y_test, y_pred_smote_tomek))\n",
    "print(f\"AUC: {roc_auc_score(y_test, y_pred_proba_smote_tomek):.4f}\")\n"
   ]
  },
  {
   "cell_type": "code",
   "execution_count": null,
   "id": "9f7b3026-c04c-408f-93b2-61611eaa7869",
   "metadata": {},
   "outputs": [],
   "source": []
  },
  {
   "cell_type": "code",
   "execution_count": null,
   "id": "f703f19d-174c-41d6-a8ba-6837d21403b9",
   "metadata": {},
   "outputs": [],
   "source": []
  },
  {
   "cell_type": "code",
   "execution_count": null,
   "id": "803be6b3-cbd1-4c46-b9c7-1b07d422ea0d",
   "metadata": {},
   "outputs": [],
   "source": []
  },
  {
   "cell_type": "code",
   "execution_count": null,
   "id": "f59c0bca-d142-40f7-8d34-d8f92c9699ee",
   "metadata": {},
   "outputs": [],
   "source": []
  },
  {
   "cell_type": "code",
   "execution_count": null,
   "id": "ef042f99-40aa-4f8a-bf87-0f9fdea8090e",
   "metadata": {},
   "outputs": [],
   "source": []
  }
 ],
 "metadata": {
  "kernelspec": {
   "display_name": "Python 3 (ipykernel)",
   "language": "python",
   "name": "python3"
  },
  "language_info": {
   "codemirror_mode": {
    "name": "ipython",
    "version": 3
   },
   "file_extension": ".py",
   "mimetype": "text/x-python",
   "name": "python",
   "nbconvert_exporter": "python",
   "pygments_lexer": "ipython3",
   "version": "3.11.9"
  }
 },
 "nbformat": 4,
 "nbformat_minor": 5
}
